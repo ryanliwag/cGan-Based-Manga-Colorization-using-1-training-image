{
 "cells": [
  {
   "cell_type": "markdown",
   "metadata": {},
   "source": [
    "dataset https://www.kaggle.com/c/digit-recognizer/data"
   ]
  },
  {
   "cell_type": "code",
   "execution_count": 1,
   "metadata": {},
   "outputs": [],
   "source": [
    "import os\n",
    "import torch\n",
    "import pandas as pd\n",
    "from skimage import io, transform\n",
    "import numpy as np\n",
    "import matplotlib.pyplot as plt\n",
    "from torchvision import transforms, utils\n",
    "from torch.utils.data import Dataset, DataLoader\n",
    "import torchvision\n",
    "\n",
    "import torch.nn as nn\n",
    "import torch.nn.functional as F\n",
    "import torch.optim as optim\n",
    "\n",
    "seed = 69\n",
    "\n",
    "torch.manual_seed(seed)\n",
    "np.random.seed(seed)"
   ]
  },
  {
   "cell_type": "code",
   "execution_count": 32,
   "metadata": {},
   "outputs": [],
   "source": [
    "class MnistDataset(Dataset):\n",
    "    def __init__(self, csv_file, transform=None, train=True):\n",
    "        '''\n",
    "        Args:\n",
    "            csv_file (string)\n",
    "            transform (callable, optional)\n",
    "        '''\n",
    "        \n",
    "        self.mnist = pd.read_csv(csv_file)\n",
    "        self.train = train\n",
    "        self.transform = transform\n",
    "        \n",
    "    def __len__(self):\n",
    "        return len(self.mnist)\n",
    "    \n",
    "    def __getitem__(self, idx):\n",
    "        if torch.is_tensor(idx):\n",
    "            idx = idx.tolist()\n",
    "            \n",
    "        if self.train:\n",
    "            label = self.mnist.iloc[idx][0]\n",
    "            label = np.array(label)\n",
    "\n",
    "            img = self.mnist.iloc[idx].values[1:]\n",
    "            img = img / 255 #normalize\n",
    "            sample = {\"label\":label, \"image\":img}\n",
    "            if self.transform:\n",
    "                sample = self.transform(sample)\n",
    "                \n",
    "        else:\n",
    "            img = self.mnist.iloc[idx].values\n",
    "            img = img / 255\n",
    "            sample = {\"image\": torch.from_numpy(img)}\n",
    "            \n",
    "\n",
    "            \n",
    "        return sample\n",
    "\n",
    "class ToTensor(object):\n",
    "    def __call__(self, sample):\n",
    "        image, label = sample['image'], sample['label']\n",
    "\n",
    "        return {'image': torch.from_numpy(image),\n",
    "                'label': torch.from_numpy(label)}"
   ]
  },
  {
   "cell_type": "code",
   "execution_count": 53,
   "metadata": {},
   "outputs": [],
   "source": [
    "training_split = 0.8\n",
    "batch_size = 32\n",
    "\n",
    "mnist_train_dataset = MnistDataset(\"mnist/train.csv\", transform=transforms.Compose([ToTensor()]))\n",
    "mnist_test_dataset = MnistDataset(\"mnist/test.csv\", train=False)\n",
    "\n",
    "train_length = int(training_split * len(mnist_train_dataset))\n",
    "validation_length = len(mnist_train_dataset) - train_length\n",
    "\n",
    "train_dataset, validation_dataset = torch.utils.data.random_split(mnist_train_dataset, (train_length, validation_length))\n",
    "\n",
    "train_loader = DataLoader(train_dataset, batch_size=batch_size, shuffle=True)\n",
    "validation_loader = DataLoader(validation_dataset, batch_size=batch_size, shuffle=True)\n",
    "test_loader = DataLoader(mnist_test_dataset, batch_size=1, shuffle=False)"
   ]
  },
  {
   "cell_type": "markdown",
   "metadata": {},
   "source": [
    "## Visualize images"
   ]
  },
  {
   "cell_type": "code",
   "execution_count": 19,
   "metadata": {},
   "outputs": [
    {
     "data": {
      "text/plain": [
       "<Figure size 432x288 with 0 Axes>"
      ]
     },
     "metadata": {},
     "output_type": "display_data"
    },
    {
     "data": {
      "image/png": "[encoded data removed]",
      "text/plain": [
       "<Figure size 1080x432 with 6 Axes>"
      ]
     },
     "metadata": {
      "needs_background": "light"
     },
     "output_type": "display_data"
    }
   ],
   "source": [
    "imgs_ = 6\n",
    "fig = plt.figure()\n",
    "plt.figure(figsize=(15,imgs_))\n",
    "for i in range(imgs_):\n",
    "    ax = plt.subplot(1, imgs_, i+1)\n",
    "    ax.set_title('sample #{}'.format(i))\n",
    "    plt.imshow(np.reshape(mnist_train_dataset[i][\"image\"], (28,28)), cmap='gray')\n",
    "    \n",
    "plt.show()"
   ]
  },
  {
   "cell_type": "markdown",
   "metadata": {},
   "source": [
    "## create Model"
   ]
  },
  {
   "cell_type": "code",
   "execution_count": 20,
   "metadata": {},
   "outputs": [],
   "source": [
    "learning_rate = 0.005\n",
    "momentum = 0.5\n",
    "\n",
    "if torch.cuda.is_available():\n",
    "    device = torch.device('cuda')\n",
    "else:\n",
    "    device = torch.device('cpu')\n",
    "\n",
    "class MLP(nn.Module):\n",
    "    def __init__(self):\n",
    "        super().__init__()\n",
    "        self.fc1 = nn.Linear(784, 50)\n",
    "        self.fc1_drop = nn.Dropout(0.2)\n",
    "        self.fc2 = nn.Linear(50, 50)\n",
    "        self.fc2_drop = nn.Dropout(0.2)\n",
    "        self.fc3 = nn.Linear(50, 10)\n",
    "\n",
    "    def forward(self, x):\n",
    "        x = F.relu(self.fc1(x))\n",
    "        x = self.fc1_drop(x)\n",
    "        x = F.relu(self.fc2(x))\n",
    "        x = self.fc2_drop(x)\n",
    "        return F.log_softmax(self.fc3(x), dim=1)\n",
    "\n",
    "model = MLP().to(device)\n",
    "optimizer = torch.optim.SGD(model.parameters(), lr=learning_rate, momentum=momentum)\n",
    "criterion = nn.CrossEntropyLoss()"
   ]
  },
  {
   "cell_type": "markdown",
   "metadata": {},
   "source": [
    "# Define Train and Validation functions"
   ]
  },
  {
   "cell_type": "code",
   "execution_count": 27,
   "metadata": {
    "scrolled": false
   },
   "outputs": [],
   "source": [
    "def train(epoch, loader, log_interval=500):\n",
    "    # Set model to training mode\n",
    "    model.train()\n",
    "    \n",
    "    # Loop over each batch from the training set\n",
    "    for batch_idx, data in enumerate(train_loader):\n",
    "        \n",
    "        variables = data[\"image\"].float().to(device)\n",
    "        target = data[\"label\"].to(device)\n",
    "\n",
    "        # Zero gradient buffers\n",
    "        optimizer.zero_grad() \n",
    "        \n",
    "        # Pass data through the network\n",
    "        output = model(variables)\n",
    "        # Calculate loss\n",
    "        loss = criterion(output, target)\n",
    "\n",
    "        # Backpropagate\n",
    "        loss.backward()\n",
    "        \n",
    "        # Update weights\n",
    "        optimizer.step()\n",
    "        \n",
    "        if batch_idx % log_interval == 0:\n",
    "            print('Train Epoch: {} [{}/{} ({:.0f}%)]\\tLoss: {:.6f}'.format(\n",
    "                epoch, batch_idx * batch_size, len(train_loader.dataset),\n",
    "                100. * batch_idx / len(train_loader), loss.data.item()))\n",
    "\n",
    "def validate(loss, accuracy_list, loader):\n",
    "    model.eval()\n",
    "    val_loss, correct = 0, 0\n",
    "    \n",
    "    for data in loader:\n",
    "        variables = data[\"image\"].float().to(device)\n",
    "        target = data[\"label\"].to(device)\n",
    "        \n",
    "        \n",
    "        output = model(variables)\n",
    "        val_loss += criterion(output, target).data.item()\n",
    "        \n",
    "        pred = output.data.max(1)[1] # get the index of the max log-probability\n",
    "        correct += pred.eq(target.data).cpu().sum()\n",
    "\n",
    "    val_loss /= len(loader)\n",
    "    loss.append(val_loss)\n",
    "\n",
    "    accuracy = 100. * correct.to(torch.float32) / len(loader.dataset)\n",
    "    accuracy_list.append(accuracy)\n",
    "    \n",
    "    print('\\nValidation set: Average loss: {:.4f}, Accuracy: {}/{} ({:.0f}%)\\n'.format(\n",
    "        val_loss, correct, len(loader.dataset), accuracy))"
   ]
  },
  {
   "cell_type": "markdown",
   "metadata": {},
   "source": [
    "# Training"
   ]
  },
  {
   "cell_type": "code",
   "execution_count": 28,
   "metadata": {
    "scrolled": true
   },
   "outputs": [
    {
     "name": "stdout",
     "output_type": "stream",
     "text": [
      "Train Epoch: 1 [0/33600 (0%)]\tLoss: 0.074902\n",
      "Train Epoch: 1 [16000/33600 (48%)]\tLoss: 0.157553\n",
      "Train Epoch: 1 [32000/33600 (95%)]\tLoss: 0.096836\n",
      "\n",
      "Validation set: Average loss: 0.1467, Accuracy: 8011/8400 (95%)\n",
      "\n",
      "Train Epoch: 2 [0/33600 (0%)]\tLoss: 0.258070\n",
      "Train Epoch: 2 [16000/33600 (48%)]\tLoss: 0.099947\n",
      "Train Epoch: 2 [32000/33600 (95%)]\tLoss: 0.083451\n",
      "\n",
      "Validation set: Average loss: 0.1416, Accuracy: 8048/8400 (96%)\n",
      "\n",
      "Train Epoch: 3 [0/33600 (0%)]\tLoss: 0.401501\n",
      "Train Epoch: 3 [16000/33600 (48%)]\tLoss: 0.134696\n",
      "Train Epoch: 3 [32000/33600 (95%)]\tLoss: 0.127010\n",
      "\n",
      "Validation set: Average loss: 0.1431, Accuracy: 8023/8400 (96%)\n",
      "\n",
      "Train Epoch: 4 [0/33600 (0%)]\tLoss: 0.121020\n",
      "Train Epoch: 4 [16000/33600 (48%)]\tLoss: 0.047994\n",
      "Train Epoch: 4 [32000/33600 (95%)]\tLoss: 0.131753\n",
      "\n",
      "Validation set: Average loss: 0.1372, Accuracy: 8041/8400 (96%)\n",
      "\n",
      "Train Epoch: 5 [0/33600 (0%)]\tLoss: 0.138590\n",
      "Train Epoch: 5 [16000/33600 (48%)]\tLoss: 0.160371\n",
      "Train Epoch: 5 [32000/33600 (95%)]\tLoss: 0.236159\n",
      "\n",
      "Validation set: Average loss: 0.1354, Accuracy: 8052/8400 (96%)\n",
      "\n",
      "Train Epoch: 6 [0/33600 (0%)]\tLoss: 0.149900\n",
      "Train Epoch: 6 [16000/33600 (48%)]\tLoss: 0.128712\n",
      "Train Epoch: 6 [32000/33600 (95%)]\tLoss: 0.069948\n",
      "\n",
      "Validation set: Average loss: 0.1338, Accuracy: 8062/8400 (96%)\n",
      "\n",
      "Train Epoch: 7 [0/33600 (0%)]\tLoss: 0.406860\n",
      "Train Epoch: 7 [16000/33600 (48%)]\tLoss: 0.445512\n",
      "Train Epoch: 7 [32000/33600 (95%)]\tLoss: 0.089659\n",
      "\n",
      "Validation set: Average loss: 0.1316, Accuracy: 8058/8400 (96%)\n",
      "\n",
      "Train Epoch: 8 [0/33600 (0%)]\tLoss: 0.161755\n",
      "Train Epoch: 8 [16000/33600 (48%)]\tLoss: 0.026606\n",
      "Train Epoch: 8 [32000/33600 (95%)]\tLoss: 0.181950\n",
      "\n",
      "Validation set: Average loss: 0.1293, Accuracy: 8071/8400 (96%)\n",
      "\n",
      "Train Epoch: 9 [0/33600 (0%)]\tLoss: 0.278740\n",
      "Train Epoch: 9 [16000/33600 (48%)]\tLoss: 0.231120\n",
      "Train Epoch: 9 [32000/33600 (95%)]\tLoss: 0.277628\n",
      "\n",
      "Validation set: Average loss: 0.1288, Accuracy: 8073/8400 (96%)\n",
      "\n",
      "Train Epoch: 10 [0/33600 (0%)]\tLoss: 0.179266\n",
      "Train Epoch: 10 [16000/33600 (48%)]\tLoss: 0.034262\n",
      "Train Epoch: 10 [32000/33600 (95%)]\tLoss: 0.466025\n",
      "\n",
      "Validation set: Average loss: 0.1278, Accuracy: 8078/8400 (96%)\n",
      "\n",
      "Train Epoch: 11 [0/33600 (0%)]\tLoss: 0.112514\n",
      "Train Epoch: 11 [16000/33600 (48%)]\tLoss: 0.021220\n",
      "Train Epoch: 11 [32000/33600 (95%)]\tLoss: 0.325667\n",
      "\n",
      "Validation set: Average loss: 0.1269, Accuracy: 8073/8400 (96%)\n",
      "\n",
      "Train Epoch: 12 [0/33600 (0%)]\tLoss: 0.151565\n",
      "Train Epoch: 12 [16000/33600 (48%)]\tLoss: 0.296534\n",
      "Train Epoch: 12 [32000/33600 (95%)]\tLoss: 0.210260\n",
      "\n",
      "Validation set: Average loss: 0.1247, Accuracy: 8075/8400 (96%)\n",
      "\n",
      "Train Epoch: 13 [0/33600 (0%)]\tLoss: 0.027355\n",
      "Train Epoch: 13 [16000/33600 (48%)]\tLoss: 0.192023\n",
      "Train Epoch: 13 [32000/33600 (95%)]\tLoss: 0.214422\n",
      "\n",
      "Validation set: Average loss: 0.1232, Accuracy: 8084/8400 (96%)\n",
      "\n",
      "Train Epoch: 14 [0/33600 (0%)]\tLoss: 0.090970\n",
      "Train Epoch: 14 [16000/33600 (48%)]\tLoss: 0.041790\n",
      "Train Epoch: 14 [32000/33600 (95%)]\tLoss: 0.413998\n",
      "\n",
      "Validation set: Average loss: 0.1242, Accuracy: 8083/8400 (96%)\n",
      "\n",
      "Train Epoch: 15 [0/33600 (0%)]\tLoss: 0.115540\n",
      "Train Epoch: 15 [16000/33600 (48%)]\tLoss: 0.133417\n",
      "Train Epoch: 15 [32000/33600 (95%)]\tLoss: 0.244356\n",
      "\n",
      "Validation set: Average loss: 0.1214, Accuracy: 8080/8400 (96%)\n",
      "\n",
      "Train Epoch: 16 [0/33600 (0%)]\tLoss: 0.031217\n",
      "Train Epoch: 16 [16000/33600 (48%)]\tLoss: 0.104552\n",
      "Train Epoch: 16 [32000/33600 (95%)]\tLoss: 0.095486\n",
      "\n",
      "Validation set: Average loss: 0.1204, Accuracy: 8081/8400 (96%)\n",
      "\n",
      "Train Epoch: 17 [0/33600 (0%)]\tLoss: 0.110828\n",
      "Train Epoch: 17 [16000/33600 (48%)]\tLoss: 0.074342\n",
      "Train Epoch: 17 [32000/33600 (95%)]\tLoss: 0.160389\n",
      "\n",
      "Validation set: Average loss: 0.1212, Accuracy: 8091/8400 (96%)\n",
      "\n",
      "Train Epoch: 18 [0/33600 (0%)]\tLoss: 0.016591\n",
      "Train Epoch: 18 [16000/33600 (48%)]\tLoss: 0.135002\n",
      "Train Epoch: 18 [32000/33600 (95%)]\tLoss: 0.248477\n",
      "\n",
      "Validation set: Average loss: 0.1177, Accuracy: 8104/8400 (96%)\n",
      "\n",
      "Train Epoch: 19 [0/33600 (0%)]\tLoss: 0.161167\n",
      "Train Epoch: 19 [16000/33600 (48%)]\tLoss: 0.050472\n",
      "Train Epoch: 19 [32000/33600 (95%)]\tLoss: 0.155338\n",
      "\n",
      "Validation set: Average loss: 0.1177, Accuracy: 8093/8400 (96%)\n",
      "\n",
      "Train Epoch: 20 [0/33600 (0%)]\tLoss: 0.044437\n",
      "Train Epoch: 20 [16000/33600 (48%)]\tLoss: 0.254165\n",
      "Train Epoch: 20 [32000/33600 (95%)]\tLoss: 0.149182\n",
      "\n",
      "Validation set: Average loss: 0.1181, Accuracy: 8092/8400 (96%)\n",
      "\n"
     ]
    }
   ],
   "source": [
    "epochs = 20\n",
    "\n",
    "loss_, acc_ = [], []\n",
    "for epoch in range(1, epochs + 1):\n",
    "    train(epoch, train_loader)\n",
    "    validate(loss_, acc_ , validation_loader)"
   ]
  },
  {
   "cell_type": "markdown",
   "metadata": {},
   "source": [
    "# Running on test set"
   ]
  },
  {
   "cell_type": "code",
   "execution_count": 57,
   "metadata": {},
   "outputs": [],
   "source": [
    "model.eval()\n",
    "output_list = []\n",
    "for idx, data in enumerate(test_loader):\n",
    "    output = model(data[\"image\"].float().to(device))\n",
    "    output_list.append([idx+1, (output.data.max(1)[1].cpu().numpy().tolist()[0])])"
   ]
  },
  {
   "cell_type": "code",
   "execution_count": 62,
   "metadata": {
    "scrolled": true
   },
   "outputs": [
    {
     "data": {
      "text/plain": [
       "True"
      ]
     },
     "execution_count": 62,
     "metadata": {},
     "output_type": "execute_result"
    }
   ],
   "source": [
    "len(output_list) == len(mnist_test_dataset)"
   ]
  },
  {
   "cell_type": "code",
   "execution_count": 61,
   "metadata": {},
   "outputs": [],
   "source": [
    "#export to csv\n",
    "pd.DataFrame(output_list, columns=[\"ImageId\", \"Label\"]).to_csv(\"predictions_mlp.csv\", index=False)"
   ]
  }
 ],
 "metadata": {
  "kernelspec": {
   "display_name": "cgan-colorization",
   "language": "python",
   "name": "cgan-colorization"
  },
  "language_info": {
   "codemirror_mode": {
    "name": "ipython",
    "version": 3
   },
   "file_extension": ".py",
   "mimetype": "text/x-python",
   "name": "python",
   "nbconvert_exporter": "python",
   "pygments_lexer": "ipython3",
   "version": "3.8.3"
  }
 },
 "nbformat": 4,
 "nbformat_minor": 2
}
