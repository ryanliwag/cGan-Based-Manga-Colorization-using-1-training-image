{
  "nbformat": 4,
  "nbformat_minor": 0,
  "metadata": {
    "colab": {
      "name": "Untitled1.ipynb",
      "provenance": [],
      "toc_visible": true,
      "mount_file_id": "1NHIK0u1ha54doKEE_pLw7io216zOE4qK",
      "authorship_tag": "ABX9TyM/kQKFRONPTgr5h/iAShfs",
      "include_colab_link": true
    },
    "kernelspec": {
      "name": "python3",
      "display_name": "Python 3"
    }
  },
  "cells": [
    {
      "cell_type": "markdown",
      "metadata": {
        "id": "view-in-github",
        "colab_type": "text"
      },
      "source": [
        "<a href=\"https://colab.research.google.com/github/ryanliwag/temp/blob/master/Untitled1.ipynb\" target=\"_parent\"><img src=\"https://colab.research.google.com/assets/colab-badge.svg\" alt=\"Open In Colab\"/></a>"
      ]
    },
    {
      "cell_type": "code",
      "metadata": {
        "id": "Ib_ot-fudnvZ",
        "colab_type": "code",
        "colab": {}
      },
      "source": [
        "import torch\n",
        "\n",
        "from PIL import Image\n",
        "\n",
        "import cv2\n",
        "import matplotlib.pyplot as plt\n",
        "\n",
        "from torchvision import transforms, utils\n",
        "from torch.utils.data import Dataset, DataLoader\n",
        "import torchvision\n",
        "\n",
        "import glob\n",
        "import random\n",
        "import os\n",
        "import numpy as np\n",
        "\n",
        "from torch.utils.data import Dataset\n",
        "\n",
        "import argparse\n",
        "import os\n",
        "import math\n",
        "\n",
        "from torchvision.utils import save_image\n",
        "\n",
        "import torch.nn as nn\n",
        "import torch.nn.functional as F\n",
        "import torch\n",
        "\n",
        "\n",
        "import torch.optim as optim\n",
        "\n",
        "from torch import cat"
      ],
      "execution_count": 21,
      "outputs": []
    },
    {
      "cell_type": "code",
      "metadata": {
        "id": "x3UaVX2rd9aA",
        "colab_type": "code",
        "colab": {}
      },
      "source": [
        "# Dataset loader\n",
        "transforms_orig = transforms.Compose([\n",
        "                transforms.RandomRotation(30),\n",
        "                transforms.Resize((64,64), Image.BICUBIC),\n",
        "                transforms.RandomHorizontalFlip()])\n",
        "\n",
        "transforms_bw = transforms.Compose([\n",
        "                transforms.Grayscale(num_output_channels=1),\n",
        "                transforms.ToTensor()])\n",
        "\n",
        "\n",
        "transforms_rgb = transforms.Compose([\n",
        "                transforms.ToTensor()])\n",
        "\n",
        "class ImageDataset(Dataset):\n",
        "    def __init__(self, root, transforms_orig=None, transforms_bw=None, transforms_rgb=None):\n",
        "        '''\n",
        "        Args:\n",
        "            csv_file (string)\n",
        "            transform (callable, optional)\n",
        "        '''\n",
        "        \n",
        "        files = glob.glob('%s/*.*' % root)\n",
        "        self.training_files = files * 64\n",
        "        self.transforms_orig = transforms_orig\n",
        "        self.transforms_rgb = transforms_rgb\n",
        "        self.transforms_bw = transforms_bw\n",
        "        \n",
        "    def __len__(self):\n",
        "        return len(self.training_files)\n",
        "    \n",
        "    def __getitem__(self, idx):\n",
        "        img = Image.open(self.training_files[idx])\n",
        "        \n",
        "        orig_image = self.transforms_orig(img)\n",
        "        \n",
        "        true_image = self.transforms_rgb(orig_image)\n",
        "        bw_image = self.transforms_bw(orig_image)\n",
        "        \n",
        "        return {\"true_image\": true_image, \"gen_image\": bw_image}"
      ],
      "execution_count": 17,
      "outputs": []
    },
    {
      "cell_type": "code",
      "metadata": {
        "id": "aO7LJxIGeEGo",
        "colab_type": "code",
        "colab": {}
      },
      "source": [
        "training_generator = ImageDataset(root=\"/content/temp/training_images\", transforms_orig=transforms_orig,\n",
        "                                                    transforms_rgb=transforms_rgb, \n",
        "                                                    transforms_bw=transforms_bw)\n",
        "\n",
        "batch_size = 2\n",
        "dataloader = DataLoader(\n",
        "    training_generator,\n",
        "    batch_size=batch_size,\n",
        "    shuffle=True,\n",
        ")"
      ],
      "execution_count": 18,
      "outputs": []
    },
    {
      "cell_type": "code",
      "metadata": {
        "id": "or5u4Zz9eh8Q",
        "colab_type": "code",
        "colab": {
          "base_uri": "https://localhost:8080/",
          "height": 452
        },
        "outputId": "922cf91e-9508-4793-cd65-259c77864995"
      },
      "source": [
        "to_pil = torchvision.transforms.ToPILImage()\n",
        "\n",
        "for idx, image in enumerate(dataloader):\n",
        "    res = to_pil(image[\"true_image\"][0])\n",
        "    bw = to_pil(image[\"gen_image\"][0])\n",
        "    print(image[\"true_image\"].shape)\n",
        "    display(res)\n",
        "    display(bw)\n",
        "    if idx == 2:\n",
        "        break"
      ],
      "execution_count": 19,
      "outputs": [
        {
          "output_type": "stream",
          "text": [
            "torch.Size([2, 3, 64, 64])\n"
          ],
          "name": "stdout"
        },
        {
          "output_type": "display_data",
          "data": {
            "image/png": "[encoded data removed]",
            "text/plain": [
              "<PIL.Image.Image image mode=RGB size=64x64 at 0x7F3B0AC9E898>"
            ]
          },
          "metadata": {
            "tags": []
          }
        },
        {
          "output_type": "display_data",
          "data": {
            "image/png": "[encoded data removed]",
            "text/plain": [
              "<PIL.Image.Image image mode=L size=64x64 at 0x7F3B0AC9E828>"
            ]
          },
          "metadata": {
            "tags": []
          }
        },
        {
          "output_type": "stream",
          "text": [
            "torch.Size([2, 3, 64, 64])\n"
          ],
          "name": "stdout"
        },
        {
          "output_type": "display_data",
          "data": {
            "image/png": "[encoded data removed]",
            "text/plain": [
              "<PIL.Image.Image image mode=RGB size=64x64 at 0x7F3B0AC9E7F0>"
            ]
          },
          "metadata": {
            "tags": []
          }
        },
        {
          "output_type": "display_data",
          "data": {
            "image/png": "[encoded data removed]",
            "text/plain": [
              "<PIL.Image.Image image mode=L size=64x64 at 0x7F3B0AC89E80>"
            ]
          },
          "metadata": {
            "tags": []
          }
        },
        {
          "output_type": "stream",
          "text": [
            "torch.Size([2, 3, 64, 64])\n"
          ],
          "name": "stdout"
        },
        {
          "output_type": "display_data",
          "data": {
            "image/png": "[encoded data removed]",
            "text/plain": [
              "<PIL.Image.Image image mode=RGB size=64x64 at 0x7F3B0AC9E898>"
            ]
          },
          "metadata": {
            "tags": []
          }
        },
        {
          "output_type": "display_data",
          "data": {
            "image/png": "[encoded data removed]",
            "text/plain": [
              "<PIL.Image.Image image mode=L size=64x64 at 0x7F3B0AC9E7F0>"
            ]
          },
          "metadata": {
            "tags": []
          }
        }
      ]
    },
    {
      "cell_type": "code",
      "metadata": {
        "id": "cMYPw55kfBeK",
        "colab_type": "code",
        "colab": {}
      },
      "source": [
        "  class UNet(nn.Module):\n",
        "    \n",
        "    def unet_conv(self, ch_in, ch_out, is_leaky):\n",
        "        \"\"\"\n",
        "        Construct a convolutional unit comprising of two conv layers\n",
        "        followed by a batch normalisation layer and ReLU/Leaky ReLU.\n",
        "        \"\"\"\n",
        "        if is_leaky:\n",
        "            return nn.Sequential(\n",
        "                nn.Conv2d(ch_in, ch_out, 3, padding=1),\n",
        "                nn.BatchNorm2d(ch_out),\n",
        "                nn.LeakyReLU(0.2),\n",
        "                nn.Conv2d(ch_out, ch_out, 3, padding=1),\n",
        "                nn.BatchNorm2d(ch_out),\n",
        "                nn.LeakyReLU(0.2)\n",
        "            )\n",
        "        else:\n",
        "            return nn.Sequential(\n",
        "                nn.Conv2d(ch_in, ch_out, 3, padding=1),\n",
        "                nn.BatchNorm2d(ch_out),\n",
        "                nn.ReLU(),\n",
        "                nn.Conv2d(ch_out, ch_out, 3, padding=1),\n",
        "                nn.BatchNorm2d(ch_out),\n",
        "                nn.ReLU()\n",
        "            )\n",
        "        \n",
        "    def up(self, ch_in, ch_out):\n",
        "        \"\"\"\n",
        "        Applies a 2D bilinear upsampling to the input image which scales\n",
        "        the image 2x times, followed by a convolution with a 1x1 kernel. \n",
        "        \"\"\"\n",
        "        return nn.Sequential(\n",
        "            nn.ConvTranspose2d(ch_in, ch_out, 3, 2, 1, 1), \n",
        "            nn.ReLU()\n",
        "        )\n",
        "    \n",
        "    def __init__(self, is_leaky):\n",
        "        \"\"\"\n",
        "        In the constructer, all the convolutional, upsampling and max pooling \n",
        "        units are instantiated and assigned as member variables. \n",
        "        \"\"\"\n",
        "        super(UNet, self).__init__()\n",
        "        \n",
        "        # First encoding layer\n",
        "        self.conv1 = self.unet_conv(1, 64, is_leaky)\n",
        "        # Second encoding layer\n",
        "        self.conv2 = self.unet_conv(64, 128, is_leaky)\n",
        "        # Third encoding layer\n",
        "        self.conv3 = self.unet_conv(128, 256, is_leaky)\n",
        "        # Fourth encoding layer\n",
        "        self.conv4 = self.unet_conv(256, 512, is_leaky)\n",
        "        # Fifth encoding layer\n",
        "        self.conv5 = self.unet_conv(512, 1024, is_leaky)\n",
        "        \n",
        "        # Pooling layer\n",
        "        self.pool = nn.MaxPool2d(2)\n",
        "        \n",
        "        # First Upsampling layer\n",
        "        self.up1 = self.up(1024, 512)\n",
        "        # Second Upsampling layer\n",
        "        self.up2 = self.up(512, 256)\n",
        "        # Third Upsampling layer\n",
        "        self.up3 = self.up(256, 128)\n",
        "        # Fourth Upsampling layer\n",
        "        self.up4 = self.up(128, 64)\n",
        "        \n",
        "        # First decoding layer\n",
        "        self.conv6 = self.unet_conv(1024, 512, False)\n",
        "        # Second decoding layer\n",
        "        self.conv7 = self.unet_conv(512, 256, False)\n",
        "        # Third decoding layer\n",
        "        self.conv8 = self.unet_conv(256, 128, False)\n",
        "        # Fourth decoding layer\n",
        "        self.conv9 = self.unet_conv(128, 64, False)\n",
        "        \n",
        "        # Last layer\n",
        "        self.conv10 = nn.Conv2d(64, 3, 1)\n",
        "\n",
        "    def forward(self, x):\n",
        "        \"\"\" \n",
        "        An input tensor of a black and white image is accepted and\n",
        "        passed through the U-Net model. A colored image in CieLAB color\n",
        "        space is returned as the result. \n",
        "        \"\"\"\n",
        "        # Encoding path\n",
        "        x1 = self.conv1(x)\n",
        "        x2 = self.conv2(self.pool(x1))\n",
        "        x3 = self.conv3(self.pool(x2))\n",
        "        x4 = self.conv4(self.pool(x3))\n",
        "        x5 = self.conv5(self.pool(x4))\n",
        "        \n",
        "        # Decoding path\n",
        "        x = self.conv6(torch.cat((x4, self.up1(x5)), 1))\n",
        "        x = self.conv7(torch.cat((x3, self.up2(x)), 1))\n",
        "        x = self.conv8(torch.cat((x2, self.up3(x)), 1))\n",
        "        x = self.conv9(torch.cat((x1, self.up4(x)), 1))\n",
        "        x = self.conv10(x)\n",
        "        m = nn.Tanh()\n",
        "        x = m(x)\n",
        "        \n",
        "        return x\n",
        "\n",
        "\n",
        "class DNet(nn.Module):\n",
        "    \n",
        "    def unet_conv(self, ch_in, ch_out, generator_output=True):\n",
        "        \"\"\"\n",
        "        Construct a convolutional unit comprising of two conv layers\n",
        "        followed by a batch normalisation layer and Leaky ReLU.\n",
        "        \"\"\"\n",
        "        \n",
        "\n",
        "        return nn.Sequential(\n",
        "            nn.Conv2d(ch_in, ch_out, 3, padding=1),\n",
        "            nn.BatchNorm2d(ch_out),\n",
        "            nn.LeakyReLU(0.2),\n",
        "            nn.Conv2d(ch_out, ch_out, 3, padding=1),\n",
        "            nn.BatchNorm2d(ch_out),\n",
        "            nn.LeakyReLU(0.2)\n",
        "        )\n",
        "\n",
        "\n",
        "    \n",
        "    def __init__(self):\n",
        "        super(DNet, self).__init__()\n",
        "        \"\"\"\n",
        "        In the constructer, all the convolutional and max pooling units \n",
        "        are instantiated and assigned as member variables. \n",
        "        \"\"\"\n",
        "        # First layer\n",
        "        self.conv1_x = self.unet_conv(3, 64)\n",
        "        \n",
        "        self.conv1_y = self.unet_conv(1, 64)\n",
        "        \n",
        "        # Second layer\n",
        "        self.conv2 = self.unet_conv(64, 128)\n",
        "        # Third layer\n",
        "        self.conv3 = self.unet_conv(128, 256)\n",
        "        # Fourth layer\n",
        "        self.conv4 = self.unet_conv(256, 512)\n",
        "        # Fifth layer\n",
        "        self.conv5 = self.unet_conv(512, 1024)\n",
        "        \n",
        "        # Pooling layer\n",
        "        self.pool = nn.MaxPool2d(2)\n",
        "        \n",
        "        # Last layer\n",
        "        self.conv6 = nn.Linear(4*1024*4, 1)\n",
        "\n",
        "    def forward(self, x_rgb, x_bw):\n",
        "        \"\"\" \n",
        "        An input tensor of a colored image from either the generator or source\n",
        "        is accepted and passed through the model. The probability of the image\n",
        "        belonging to the source domain is returned as the result. \n",
        "        \"\"\"\n",
        "        x1_rgb = self.conv1_x(x_rgb)\n",
        "        x2_rgb = self.conv2(self.pool(x1_rgb))\n",
        "        \n",
        "        x1_bw = self.conv1_y(x_bw)\n",
        "        x2_bw = self.conv2(self.pool(x1_bw))     \n",
        "        \n",
        "        x2 = torch.cat((x2_rgb, x2_bw), 1)\n",
        "        x4 = self.conv4(self.pool(x2))\n",
        "        x5 = self.conv5(self.pool(x4))\n",
        "\n",
        "        x6 = x5.view(batch_size, -1)\n",
        "        m = nn.Sigmoid()\n",
        "        x = m(self.conv6(x6))\n",
        "        \n",
        "        return x"
      ],
      "execution_count": 20,
      "outputs": []
    },
    {
      "cell_type": "code",
      "metadata": {
        "id": "wNJFDV7QfUcQ",
        "colab_type": "code",
        "colab": {}
      },
      "source": [
        "if torch.cuda.is_available():\n",
        "    device = torch.device('cuda')\n",
        "else:\n",
        "    device = torch.device('cpu')"
      ],
      "execution_count": 23,
      "outputs": []
    },
    {
      "cell_type": "code",
      "metadata": {
        "id": "340FZLgvfgmo",
        "colab_type": "code",
        "colab": {}
      },
      "source": [
        "##############################################################\n",
        "# Initialise the generator and discriminator with the UNet and\n",
        "# DNet architectures respectively.\n",
        "generator = UNet(True)\n",
        "discriminator = DNet()\n",
        "\n",
        "##################################################################\n",
        "# Utilize GPU for performing all the calculations performed in the\n",
        "# forward and backward passes. Thus allocate all the generator and\n",
        "# discriminator variables on the default GPU device.\n",
        "\n",
        "\n",
        "\n",
        "\n",
        "generator.to(device)\n",
        "discriminator.to(device)\n",
        "\n",
        "###################################################################\n",
        "# Create ADAM optimizer for the generator as well the discriminator.\n",
        "# Create loss criterion for calculating the L1 and adversarial loss.\n",
        "d_optimizer = optim.Adam(discriminator.parameters(), betas=(0.5, 0.999), lr=0.0002)\n",
        "g_optimizer = optim.Adam(generator.parameters(), betas=(0.5, 0.999), lr=0.0002)\n",
        "\n",
        "d_criterion = nn.BCELoss()\n",
        "g_criterion_1 = nn.BCELoss()\n",
        "g_criterion_2 = nn.L1Loss()"
      ],
      "execution_count": 24,
      "outputs": []
    },
    {
      "cell_type": "code",
      "metadata": {
        "id": "f6ZBCx7ohl8J",
        "colab_type": "code",
        "colab": {}
      },
      "source": [
        "def train(PATH):\n",
        "    g_lambda = 100\n",
        "    smooth = 0.1\n",
        "    for epoch in range(100):  \n",
        "        # the generator and discriminator losses are summed for the entire epoch.\n",
        "        d_running_loss = 0.0\n",
        "        g_running_loss = 0.0\n",
        "        for i, data in enumerate(dataloader):\n",
        "            images = data\n",
        "            true_images = images[\"true_image\"].to(device)\n",
        "            bw_images = images[\"gen_image\"].to(device)\n",
        "\n",
        "#             print(true_images.shape, bw_images.shape)\n",
        "            fake_images = generator(bw_images)\n",
        "\n",
        "            d_optimizer.zero_grad()\n",
        "            d_loss = 0\n",
        "            \n",
        "            logits = discriminator(true_images, bw_images)\n",
        "            \n",
        "            d_real_loss = d_criterion(logits, ((1 - smooth) * torch.ones(batch_size)).to(device))\n",
        "            \n",
        "            logits = discriminator(fake_images, bw_images)\n",
        "            d_fake_loss = d_criterion(logits, (torch.zeros(batch_size)).to(device))\n",
        "            d_loss = d_real_loss + d_fake_loss\n",
        "            d_loss.backward(retain_graph=True)\n",
        "            d_optimizer.step()\n",
        "\n",
        "            # Train the generator. The loss would be the sum of the adversarial loss\n",
        "            # due to the GAN and L1 distance loss between the fake and target images. \n",
        "            g_optimizer.zero_grad()\n",
        "            g_loss = 0\n",
        "            fake_logits = discriminator(fake_images, bw_images)\n",
        "            g_fake_loss = g_criterion_1(fake_logits, (torch.ones(batch_size)).to(device))\n",
        "\n",
        "            g_image_distance_loss = g_lambda * g_criterion_2(fake_images, true_images)\n",
        "\n",
        "            g_loss = g_fake_loss + g_image_distance_loss\n",
        "            g_loss.backward()\n",
        "            g_optimizer.step()\n",
        "\n",
        "            d_running_loss += d_loss\n",
        "            g_running_loss += g_loss\n",
        "            \n",
        "        if epoch % 10 == 0:\n",
        "            print('[%d, %5d] d_loss: %.5f g_loss: %.5f' %\n",
        "                  (epoch + 1, i + 1, d_running_loss / 10, g_running_loss / 10))\n",
        "            d_running_loss = 0.0\n",
        "            g_running_loss = 0.0\n",
        "            \n",
        "            #save generator and descr\n",
        "            torch.save(generator.state_dict(), os.path.join(PATH, \"generator_epoch_{}.pth\".format(epoch)))\n",
        "            torch.save(discriminator.state_dict(), os.path.join(PATH, \"descriminator_epoch_{}.pth\".format(epoch)))"
      ],
      "execution_count": null,
      "outputs": []
    },
    {
      "cell_type": "markdown",
      "metadata": {
        "id": "CkTu9Na8h3Gq",
        "colab_type": "text"
      },
      "source": [
        "# New Section"
      ]
    },
    {
      "cell_type": "code",
      "metadata": {
        "id": "fzMxPhotisUa",
        "colab_type": "code",
        "colab": {}
      },
      "source": [
        "#@title Example form fields\n",
        "#@markdown Forms support many types of fields.\n",
        "\n",
        "no_type_checking = 'vcvbvfdd'  #@param\n",
        "string_type = 'example'  #@param {type: \"string\"}\n",
        "slider_value = 142  #@param {type: \"slider\", min: 100, max: 200}\n",
        "number = 102  #@param {type: \"number\"}\n",
        "date = '2010-11-05'  #@param {type: \"date\"}\n",
        "pick_me = \"monday\"  #@param ['monday', 'tuesday', 'wednesday', 'thursday']\n",
        "select_or_input = \"apples\" #@param [\"apples\", \"bananas\", \"oranges\"] {allow-input: true}\n",
        "#@markdown ---\n"
      ],
      "execution_count": 27,
      "outputs": []
    }
  ]
}